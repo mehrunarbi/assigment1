{
  "nbformat": 4,
  "nbformat_minor": 0,
  "metadata": {
    "colab": {
      "provenance": [],
      "authorship_tag": "ABX9TyMKuKYjbllpMd/wJaFTmsFa",
      "include_colab_link": true
    },
    "kernelspec": {
      "name": "python3",
      "display_name": "Python 3"
    },
    "language_info": {
      "name": "python"
    }
  },
  "cells": [
    {
      "cell_type": "markdown",
      "metadata": {
        "id": "view-in-github",
        "colab_type": "text"
      },
      "source": [
        "<a href=\"https://colab.research.google.com/github/mehrunarbi/assigment1/blob/main/PY3.ipynb\" target=\"_parent\"><img src=\"https://colab.research.google.com/assets/colab-badge.svg\" alt=\"Open In Colab\"/></a>"
      ]
    },
    {
      "cell_type": "markdown",
      "source": [
        "Python Assigment List Tuples and method"
      ],
      "metadata": {
        "id": "MiWaKcItGPWE"
      }
    },
    {
      "cell_type": "markdown",
      "source": [
        "Basic List Operations"
      ],
      "metadata": {
        "id": "kggdrspaMdDU"
      }
    },
    {
      "cell_type": "code",
      "source": [
        "#1 Create a lit of five number and append a ne number to it.Print the updated lit.\n",
        "number = [1,2,3,4,5]\n",
        "number.append(6)\n",
        "print(number)"
      ],
      "metadata": {
        "colab": {
          "base_uri": "https://localhost:8080/"
        },
        "id": "pOSRwcfwMn8h",
        "outputId": "a67e3669-bbfb-4286-ea90-f6a3dccdd44c"
      },
      "execution_count": null,
      "outputs": [
        {
          "output_type": "stream",
          "name": "stdout",
          "text": [
            "[1, 2, 3, 4, 5, 6]\n"
          ]
        }
      ]
    },
    {
      "cell_type": "code",
      "source": [
        "#2 Extend a list [1,2,3] with another list[4,5,6] print the result\n",
        "list = [1,2,3,4]\n",
        "list.extend([5,6,7])\n",
        "print(list)\n"
      ],
      "metadata": {
        "colab": {
          "base_uri": "https://localhost:8080/"
        },
        "id": "Nlln49UDN0FT",
        "outputId": "d8409cd7-fcae-42c3-fbf5-4148c458b07d"
      },
      "execution_count": null,
      "outputs": [
        {
          "output_type": "stream",
          "name": "stdout",
          "text": [
            "[1, 2, 3, 4, 5, 6, 7]\n"
          ]
        }
      ]
    },
    {
      "cell_type": "code",
      "source": [
        "#3 Insert the string \"Python\" at index 2 in the lit [\"Java\",\"C++\",\"Javascript\",\"Ruby\"]\n",
        "\n",
        "language = [\"Java\",\"C++\",\"Ruby\"]\n",
        "language.insert(2,\"Python\")\n",
        "print(language)"
      ],
      "metadata": {
        "colab": {
          "base_uri": "https://localhost:8080/"
        },
        "id": "xD72MwBnPHqn",
        "outputId": "4be6f0a4-ef0a-4f60-b1c2-1f0412f4bc4a"
      },
      "execution_count": null,
      "outputs": [
        {
          "output_type": "stream",
          "name": "stdout",
          "text": [
            "['Java', 'C++', 'Python', 'Ruby']\n"
          ]
        }
      ]
    },
    {
      "cell_type": "code",
      "source": [
        "#4 Remove the first occurrence of the number 10 from the list [10, 20, 30, 10, 40]\n",
        "List = [10, 20, 30, 10, 40]\n",
        "List.pop(0)\n",
        "print(List)"
      ],
      "metadata": {
        "colab": {
          "base_uri": "https://localhost:8080/"
        },
        "id": "fUj-iOoSSkLC",
        "outputId": "b36d3299-7188-4f3a-dea0-9d662a34d709"
      },
      "execution_count": null,
      "outputs": [
        {
          "output_type": "stream",
          "name": "stdout",
          "text": [
            "[20, 30, 10, 40]\n"
          ]
        }
      ]
    },
    {
      "cell_type": "code",
      "source": [
        "#5 Use the pop() method to remove the last element from[100, 200, 300, 400] and print the modified list.\n",
        "num = [ 100, 200, 300, 400,]\n",
        "num.pop(3)\n",
        "print(num)"
      ],
      "metadata": {
        "colab": {
          "base_uri": "https://localhost:8080/"
        },
        "id": "YaUJ43-iUAW_",
        "outputId": "cdc8c569-dba1-44b2-9884-ebbe72518695"
      },
      "execution_count": null,
      "outputs": [
        {
          "output_type": "stream",
          "name": "stdout",
          "text": [
            "[100, 200, 300]\n"
          ]
        }
      ]
    },
    {
      "cell_type": "markdown",
      "source": [
        "Intermediate List Operations\n"
      ],
      "metadata": {
        "id": "EkWlbdDKVGCE"
      }
    },
    {
      "cell_type": "code",
      "source": [
        "##6 Count how many times the number 5 appears in the list [5, 10, 5, 20, 5, 30].\n",
        "\n",
        "list = [5, 10, 5, 20, 5, 30]\n",
        "print(list.count(5))\n",
        "\n"
      ],
      "metadata": {
        "colab": {
          "base_uri": "https://localhost:8080/"
        },
        "id": "rsb3KYKnVk6-",
        "outputId": "ecbe8fc2-e939-497d-d699-b60624d6f3e7"
      },
      "execution_count": null,
      "outputs": [
        {
          "output_type": "stream",
          "name": "stdout",
          "text": [
            "3\n"
          ]
        }
      ]
    },
    {
      "cell_type": "code",
      "source": [
        "#7 Sort the list [9, 1, 8, 3, 5] in ascending and descending order\n",
        "num = [9, 1, 8, 3, 5]\n",
        "num.sort()\n",
        "print(\"Ascending order:\",num)\n",
        "num.sort(reverse=True)\n",
        "print(\"Descending order:\",num)\n",
        "\n"
      ],
      "metadata": {
        "colab": {
          "base_uri": "https://localhost:8080/"
        },
        "id": "RplLbzMCX6c3",
        "outputId": "9b69d3dd-69b8-446d-c4e3-5102bd880a38"
      },
      "execution_count": null,
      "outputs": [
        {
          "output_type": "stream",
          "name": "stdout",
          "text": [
            "Ascending order: [1, 3, 5, 8, 9]\n",
            "Descending order: [9, 8, 5, 3, 1]\n"
          ]
        }
      ]
    },
    {
      "cell_type": "code",
      "source": [
        "#8 Reverse the list [\"apple\",\"banana\",\"cherry\"] uing reverse() method.\n",
        "fruits = [\"apple\",\"banana\",\"cherry\"]\n",
        "fruits.reverse()\n",
        "print(fruits)"
      ],
      "metadata": {
        "colab": {
          "base_uri": "https://localhost:8080/"
        },
        "id": "LNAztvqdaFnT",
        "outputId": "5babb6ce-8a98-489b-aede-63915382d9dc"
      },
      "execution_count": null,
      "outputs": [
        {
          "output_type": "stream",
          "name": "stdout",
          "text": [
            "['cherry', 'banana', 'apple']\n"
          ]
        }
      ]
    },
    {
      "cell_type": "code",
      "source": [
        "#9 Create a copy of the list [1, 2, 3, 4, 5] and store it in another variable. Modify the copied list and print both lists.\n",
        "\n",
        "numbers = [1, 2, 3, 4, 5]\n",
        "\n",
        "new_number = numbers.copy()\n",
        "print(new_number)\n",
        "new_number[1] = 3\n",
        "print(new_number)\n",
        "\n",
        "\n",
        "\n",
        "\n"
      ],
      "metadata": {
        "colab": {
          "base_uri": "https://localhost:8080/"
        },
        "id": "UWhmZoJIdWJt",
        "outputId": "ffc7fd21-e514-4f01-dd9e-0c1d9a56b838"
      },
      "execution_count": null,
      "outputs": [
        {
          "output_type": "stream",
          "name": "stdout",
          "text": [
            "[1, 2, 3, 4, 5]\n",
            "[1, 3, 3, 4, 5]\n"
          ]
        }
      ]
    },
    {
      "cell_type": "code",
      "source": [
        "#10 Clear all elements from a list [\"hello\",\"World\",\"Python\"] uing the clear() method.\n",
        "\n",
        "element = [\"Hello\",\"World\",\"Python\"]\n",
        "print(element.clear())\n"
      ],
      "metadata": {
        "colab": {
          "base_uri": "https://localhost:8080/"
        },
        "id": "0aR3ZZhnX0Rr",
        "outputId": "e2bfd710-cb7f-467d-b3b3-0546fe274eb7"
      },
      "execution_count": null,
      "outputs": [
        {
          "output_type": "stream",
          "name": "stdout",
          "text": [
            "None\n"
          ]
        }
      ]
    },
    {
      "cell_type": "markdown",
      "source": [
        "Tuple_Based Questions"
      ],
      "metadata": {
        "id": "lIiH6X5MZe2t"
      }
    },
    {
      "cell_type": "code",
      "source": [
        "#11 Create a tuple with 5 different fruits and print the third friut.\n",
        "\n",
        "my_tuple = (\"Apple\",\"Mango\",\"Banana\",\"Orange\",\"peach\")\n",
        "print(my_tuple[2])"
      ],
      "metadata": {
        "colab": {
          "base_uri": "https://localhost:8080/"
        },
        "id": "-xtPfHRaZ6Id",
        "outputId": "3cfd788b-0544-45d0-8577-f479e51ea89c"
      },
      "execution_count": null,
      "outputs": [
        {
          "output_type": "stream",
          "name": "stdout",
          "text": [
            "Banana\n"
          ]
        }
      ]
    },
    {
      "cell_type": "code",
      "source": [
        "#12 Convert the tuple(10, 20 ,30 ,40 ,50) into a lit,remove the number 30, and convert it back into a tuple.\n",
        "my_tuple = (10, 20 ,30 ,40 ,50)\n",
        "my_list = list(my_tuple)\n",
        "print(my_list)\n",
        "my_tuple = tuple(my_list)\n",
        "print(my_tuple)\n"
      ],
      "metadata": {
        "colab": {
          "base_uri": "https://localhost:8080/"
        },
        "id": "u15Pnaha1Xw_",
        "outputId": "569ebc47-81e0-461e-953e-d78ba8421bd7"
      },
      "execution_count": null,
      "outputs": [
        {
          "output_type": "stream",
          "name": "stdout",
          "text": [
            "[10, 20, 30, 40, 50]\n",
            "(10, 20, 30, 40, 50)\n"
          ]
        }
      ]
    },
    {
      "cell_type": "code",
      "source": [
        "from types import new_class\n",
        "#13 Try to append an element to the tuple (\"A\",\"B\",\"C\") hat happen? Ho can you modify a tuple indirectly.\n",
        "\n",
        "# tuple are immutable so they can be append.\n",
        "letters  = (\"A\",\"B\",\"C\")\n",
        "letters = letters + (\"D\",)\n",
        "print(letters)\n",
        "\n",
        "# Another method\n",
        "\n",
        "letters_tuple = (\"A\", \"B\", \"C\",)\n",
        "new_tuple = list(letters_tuple)\n",
        "new_tuple.append(\"D\")\n",
        "letters_tuple = tuple(new_tuple)\n",
        "print(letters_tuple)\n",
        "\n"
      ],
      "metadata": {
        "colab": {
          "base_uri": "https://localhost:8080/"
        },
        "id": "NrEKEK4w4maq",
        "outputId": "c5baafb9-d53e-4ce3-a988-fed7a3ec78eb"
      },
      "execution_count": null,
      "outputs": [
        {
          "output_type": "stream",
          "name": "stdout",
          "text": [
            "('A', 'B', 'C', 'D')\n",
            "('A', 'B', 'C', 'D')\n"
          ]
        }
      ]
    },
    {
      "cell_type": "code",
      "source": [
        "#14 Unpack the tuple (100, 200, 300) in to three different variables and print them.\n",
        "\n",
        "new_number = (100, 200, 300)\n",
        "a, b, c = new_number\n",
        "print(a)\n",
        "print(b)\n",
        "print(c)"
      ],
      "metadata": {
        "colab": {
          "base_uri": "https://localhost:8080/"
        },
        "id": "8-2zKD37xz3K",
        "outputId": "16617777-881b-4a74-8ecd-99f0c00019f3"
      },
      "execution_count": null,
      "outputs": [
        {
          "output_type": "stream",
          "name": "stdout",
          "text": [
            "100\n",
            "200\n",
            "300\n"
          ]
        }
      ]
    },
    {
      "cell_type": "code",
      "source": [
        "#15 Count the accurance of 7 in the tuple (7, 1, 7, 3, 7, 5)\n",
        "\n",
        "accurance = (7, 1, 7, 3, 7, 5)\n",
        "print(accurance.count(7))"
      ],
      "metadata": {
        "colab": {
          "base_uri": "https://localhost:8080/"
        },
        "id": "EUX9BeSP0Li5",
        "outputId": "0d7e55cf-e106-4221-d852-3ec27bef98a3"
      },
      "execution_count": null,
      "outputs": [
        {
          "output_type": "stream",
          "name": "stdout",
          "text": [
            "3\n"
          ]
        }
      ]
    },
    {
      "cell_type": "markdown",
      "source": [
        "Advanced Problem\n"
      ],
      "metadata": {
        "id": "BUeXfzxY1fCd"
      }
    },
    {
      "cell_type": "code",
      "source": [
        "#16 Write a function that take a list and return a new list with all even number removed.\n",
        "\n",
        "def remove_even_numbers(lst):\n",
        "    return [num for num in lst if num % 2 != 0]\n",
        "\n",
        "numbers = [1, 2, 3, 4, 5, 6, 7, 8, 9, 10]\n",
        "filtered_numbers = remove_even_numbers(numbers)\n",
        "print(filtered_numbers)\n",
        "\n"
      ],
      "metadata": {
        "colab": {
          "base_uri": "https://localhost:8080/"
        },
        "id": "ojPXGh-018BP",
        "outputId": "03d24b11-9ee3-45b2-b677-ec65ffefb819"
      },
      "execution_count": null,
      "outputs": [
        {
          "output_type": "stream",
          "name": "stdout",
          "text": [
            "[1, 3, 5, 7, 9]\n"
          ]
        }
      ]
    },
    {
      "cell_type": "code",
      "source": [
        "#17 Create a function that accept a list and return a new list with element stored in decending order without using the sort() method\n",
        "\n",
        "def descending_order(lst):\n",
        "  lst_copy = lst[:]\n",
        "  n = len(lst_copy)\n",
        "  for i in range(n):\n",
        "    for j in range(0, n-i-1):\n",
        "            if lst_copy[j] < lst_copy[j+1]:\n",
        "              lst_copy[j], lst_copy[j+1] = lst_copy[j+1], lst_copy[j]\n",
        "              return lst_copy\n",
        "\n",
        "my_list = [10, 5, 8, 2, 15, 12]\n",
        "sorted_list = descending_order(my_list)\n",
        "print(sorted_list)"
      ],
      "metadata": {
        "id": "F1Ls3TKp1x3S",
        "colab": {
          "base_uri": "https://localhost:8080/"
        },
        "outputId": "722f5d1c-9741-4480-d195-c716b58cbe0c"
      },
      "execution_count": null,
      "outputs": [
        {
          "output_type": "stream",
          "name": "stdout",
          "text": [
            "[10, 8, 5, 2, 15, 12]\n"
          ]
        }
      ]
    },
    {
      "cell_type": "code",
      "source": [
        "#18 Given a list of numbers,write a program to remove all duplicate elements and print the unique elements.\n",
        "\n",
        "numbers = [1, 2, 2, 3, 4, 4, 5, 5, 6]\n",
        "unique_numbers = []\n",
        "for number in numbers:\n",
        "   if number not in unique_numbers:\n",
        "     unique_numbers.append(number)\n",
        "print(unique_numbers)"
      ],
      "metadata": {
        "id": "dwdGb58Dzqvg",
        "colab": {
          "base_uri": "https://localhost:8080/"
        },
        "outputId": "df343e1c-7549-41a5-e8bb-3dad113be0fc"
      },
      "execution_count": 2,
      "outputs": [
        {
          "output_type": "stream",
          "name": "stdout",
          "text": [
            "[1, 2, 3, 4, 5, 6]\n"
          ]
        }
      ]
    },
    {
      "cell_type": "code",
      "source": [
        "#19 Given a tuple of names (\"Alice\", \"Bobe\",\"charlie\", \"Alice\", \"David\"), convert it into a list, remove duplicates, and convert it back to a tuple.\n",
        "\n",
        "names_tuple = (\"Alice\", \"Bobe\",\"charlie\", \"Alice\", \"David\")\n",
        "names_list = list(names_tuple)\n",
        "\n",
        "unique_names = []\n",
        "for name in names_list:\n",
        "   if name not in unique_names:\n",
        "    unique_names.append(name)\n",
        "    unique_names_tuple = tuple(unique_names)\n",
        "print(unique_names_tuple)"
      ],
      "metadata": {
        "colab": {
          "base_uri": "https://localhost:8080/"
        },
        "id": "1EBj8Nu0l0oj",
        "outputId": "d069f5f3-304f-4501-f443-d36461dfbef1"
      },
      "execution_count": 5,
      "outputs": [
        {
          "output_type": "stream",
          "name": "stdout",
          "text": [
            "('Alice', 'Bobe', 'charlie', 'David')\n"
          ]
        }
      ]
    },
    {
      "cell_type": "code",
      "source": [
        "#20 Create program that takes a list of  mixed data types (int, str, float) and eparates integers into another, and floats into another.\n",
        "\n",
        "mixed_list = [5, 'mango', 4.14, 'apple', 52, 8.718, 'appricot']\n",
        "\n",
        "integers = []\n",
        "floats = []\n",
        "\n",
        "for item in mixed_list:\n",
        "    if isinstance(item, int):  # Check if the item is an integer\n",
        "        integers.append(item)\n",
        "    elif isinstance(item, float):  # Check if the item is a float\n",
        "        floats.append(item)\n",
        "\n",
        "print(\"Integers:\", integers)\n",
        "print(\"Floats:\", float)\n"
      ],
      "metadata": {
        "colab": {
          "base_uri": "https://localhost:8080/",
          "height": 211
        },
        "id": "vf0oy8wzqPV_",
        "outputId": "cbdf3f7a-8b27-48ae-d7e1-645771e1de22"
      },
      "execution_count": 13,
      "outputs": [
        {
          "output_type": "error",
          "ename": "TypeError",
          "evalue": "isinstance() arg 2 must be a type, a tuple of types, or a union",
          "traceback": [
            "\u001b[0;31m---------------------------------------------------------------------------\u001b[0m",
            "\u001b[0;31mTypeError\u001b[0m                                 Traceback (most recent call last)",
            "\u001b[0;32m<ipython-input-13-e6444e9478c3>\u001b[0m in \u001b[0;36m<cell line: 0>\u001b[0;34m()\u001b[0m\n\u001b[1;32m      9\u001b[0m     \u001b[0;32mif\u001b[0m \u001b[0misinstance\u001b[0m\u001b[0;34m(\u001b[0m\u001b[0mitem\u001b[0m\u001b[0;34m,\u001b[0m \u001b[0mint\u001b[0m\u001b[0;34m)\u001b[0m\u001b[0;34m:\u001b[0m  \u001b[0;31m# Check if the item is an integer\u001b[0m\u001b[0;34m\u001b[0m\u001b[0;34m\u001b[0m\u001b[0m\n\u001b[1;32m     10\u001b[0m         \u001b[0mintegers\u001b[0m\u001b[0;34m.\u001b[0m\u001b[0mappend\u001b[0m\u001b[0;34m(\u001b[0m\u001b[0mitem\u001b[0m\u001b[0;34m)\u001b[0m\u001b[0;34m\u001b[0m\u001b[0;34m\u001b[0m\u001b[0m\n\u001b[0;32m---> 11\u001b[0;31m     \u001b[0;32melif\u001b[0m \u001b[0misinstance\u001b[0m\u001b[0;34m(\u001b[0m\u001b[0mitem\u001b[0m\u001b[0;34m,\u001b[0m \u001b[0mfloat\u001b[0m\u001b[0;34m)\u001b[0m\u001b[0;34m:\u001b[0m  \u001b[0;31m# Check if the item is a float\u001b[0m\u001b[0;34m\u001b[0m\u001b[0;34m\u001b[0m\u001b[0m\n\u001b[0m\u001b[1;32m     12\u001b[0m         \u001b[0mfloats\u001b[0m\u001b[0;34m.\u001b[0m\u001b[0mappend\u001b[0m\u001b[0;34m(\u001b[0m\u001b[0mitem\u001b[0m\u001b[0;34m)\u001b[0m\u001b[0;34m\u001b[0m\u001b[0;34m\u001b[0m\u001b[0m\n\u001b[1;32m     13\u001b[0m \u001b[0;34m\u001b[0m\u001b[0m\n",
            "\u001b[0;31mTypeError\u001b[0m: isinstance() arg 2 must be a type, a tuple of types, or a union"
          ]
        }
      ]
    }
  ]
}