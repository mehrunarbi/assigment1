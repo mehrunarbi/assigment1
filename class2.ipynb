{
  "nbformat": 4,
  "nbformat_minor": 0,
  "metadata": {
    "colab": {
      "provenance": [],
      "authorship_tag": "ABX9TyMKmO5qHTNocqEwhOGz1iip",
      "include_colab_link": true
    },
    "kernelspec": {
      "name": "python3",
      "display_name": "Python 3"
    },
    "language_info": {
      "name": "python"
    }
  },
  "cells": [
    {
      "cell_type": "markdown",
      "metadata": {
        "id": "view-in-github",
        "colab_type": "text"
      },
      "source": [
        "<a href=\"https://colab.research.google.com/github/mehrunarbi/assigment1/blob/main/class2.ipynb\" target=\"_parent\"><img src=\"https://colab.research.google.com/assets/colab-badge.svg\" alt=\"Open In Colab\"/></a>"
      ]
    },
    {
      "cell_type": "code",
      "source": [
        "# Grade system\n",
        "num = input(\"Enter the numbers:\")\n",
        "if num >= \"80\" and num <= \"99\":\n",
        "  print(\"Your grade is 'A+'\")\n",
        "elif num >= \"70\" and num <= \"79\":\n",
        "   print(\"Your grade is 'A'\")\n",
        "elif num >= \"60\" and num <= \"69\":\n",
        "    print(\"your grade is 'B' \")\n",
        "elif num >= \"50\" and num <= \"59\":\n",
        "   print(\"Your grade is 'C'\")\n",
        "elif num >= \"40\" and num <= \"49\":\n",
        "   print(\"your grade is 'D'\")\n",
        "\n",
        "else:\n",
        "    print(\"not pass\")\n",
        "\n",
        "\n",
        ""
      ],
      "metadata": {
        "id": "dj0D1f1pIGNi"
      },
      "execution_count": null,
      "outputs": []
    },
    {
      "cell_type": "code",
      "source": [
        "num1 = float(input(\"Enter first number: \"))\n",
        "num2 = float(input(\"Enter second number: \"))\n",
        "operator = input(\"Enter the operator: \")\n",
        "\n",
        "if operator == \"+\":\n",
        "  result = num1 + num2\n",
        "  print(result)\n",
        "elif operator == \"-\":\n",
        "   result = num1 - num2\n",
        "   print(result)\n",
        "elif operator == \"*\":\n",
        "   result = num1 * num2\n",
        "   print(result)\n",
        "\n",
        "elif operator == \"/\":\n",
        "   result = num1 / num2\n",
        "   print(result)\n",
        "\n",
        "else: print(f\"{operator} is not valid\")"
      ],
      "metadata": {
        "id": "Arvq2v1JH2nE"
      },
      "execution_count": null,
      "outputs": []
    }
  ]
}